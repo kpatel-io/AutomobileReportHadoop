{
 "cells": [
  {
   "cell_type": "code",
   "execution_count": 1,
   "id": "7d7aef91",
   "metadata": {},
   "outputs": [],
   "source": [
    "# Mapper1\n",
    "\n",
    "#!/usr/bin/env python\n",
    "import sys\n",
    "# input comes from STDIN (standard input)\n",
    "for line in sys.stdin:\n",
    "    # [derive mapper output key values]\n",
    "    row = line.split(\",\")\n",
    "    key = row[2]\n",
    "    value = f\"{row[1]},{row[3]},{row[5]}\"            \n",
    "       \n",
    "    # print '%s\\t%s' % (key, value)\n",
    "    print(key + '\\t' + value)"
   ]
  },
  {
   "cell_type": "code",
   "execution_count": 2,
   "id": "323e4b45",
   "metadata": {},
   "outputs": [
    {
     "ename": "NameError",
     "evalue": "name 'vin' is not defined",
     "output_type": "error",
     "traceback": [
      "\u001b[1;31m---------------------------------------------------------------------------\u001b[0m",
      "\u001b[1;31mNameError\u001b[0m                                 Traceback (most recent call last)",
      "\u001b[1;32m<ipython-input-2-09d607623e08>\u001b[0m in \u001b[0;36m<module>\u001b[1;34m\u001b[0m\n\u001b[0;32m     39\u001b[0m \u001b[1;33m\u001b[0m\u001b[0m\n\u001b[0;32m     40\u001b[0m \u001b[1;31m# [update more master info after the key change handling]\u001b[0m\u001b[1;33m\u001b[0m\u001b[1;33m\u001b[0m\u001b[1;33m\u001b[0m\u001b[0m\n\u001b[1;32m---> 41\u001b[1;33m \u001b[0mcurrent_vin\u001b[0m \u001b[1;33m=\u001b[0m \u001b[0mvin\u001b[0m\u001b[1;33m\u001b[0m\u001b[1;33m\u001b[0m\u001b[0m\n\u001b[0m\u001b[0;32m     42\u001b[0m \u001b[1;31m# do not forget to output the last group if needed!\u001b[0m\u001b[1;33m\u001b[0m\u001b[1;33m\u001b[0m\u001b[1;33m\u001b[0m\u001b[0m\n\u001b[0;32m     43\u001b[0m \u001b[0mflush\u001b[0m\u001b[1;33m(\u001b[0m\u001b[0mmaster_make\u001b[0m\u001b[1;33m,\u001b[0m \u001b[0mmaster_year\u001b[0m\u001b[1;33m,\u001b[0m \u001b[1;36m1\u001b[0m\u001b[1;33m)\u001b[0m\u001b[1;33m\u001b[0m\u001b[1;33m\u001b[0m\u001b[0m\n",
      "\u001b[1;31mNameError\u001b[0m: name 'vin' is not defined"
     ]
    }
   ],
   "source": [
    "# Reducer1\n",
    "\n",
    "#!/usr/bin/env python\n",
    "import sys\n",
    "# [Define group level master information]\n",
    "def reset():\n",
    "# [Logic to reset master info for every new group]\n",
    "# Run for end of every group\n",
    "    def flush(incident_type, make, year):\n",
    "# [Write the output]\n",
    "        for entry in incident_type:\n",
    "            text = f\"{entry}\\t{make},{year}\"\n",
    "        print (text.strip('\\n'))\n",
    "# input comes from STDIN\n",
    "for line in sys.stdin:\n",
    "# [parse the input we got from mapper and update the master info]\n",
    "    split = line.split('\\t')\n",
    "    vin = split[0]\n",
    "    incident_type = split[1].split(',')[0]\n",
    "    make = split[1].split(',')[1]\n",
    "    year = split[1].split(',')[2]\n",
    "    \n",
    "# [detect key changes]\n",
    "    if current_vin != vin:\n",
    "        if current_vin != None:\n",
    "            # write result to STDOUT\n",
    "            flush(master_make, master_year,1)\n",
    "        reset()\n",
    "        I = []\n",
    "        master_make = ' '\n",
    "        master_year = ' '\n",
    "    if incident_type == 'A':\n",
    "        I.append(vin)\n",
    "        \n",
    "    # if there exists a make and year it should be recorded\n",
    "    if make and year:\n",
    "        master_make = make\n",
    "        master_year = year\n",
    "    \n",
    "# [update more master info after the key change handling]\n",
    "current_vin = vin\n",
    "# do not forget to output the last group if needed!\n",
    "flush(master_make, master_year, 1)\n"
   ]
  }
 ],
 "metadata": {
  "kernelspec": {
   "display_name": "Python 3",
   "language": "python",
   "name": "python3"
  },
  "language_info": {
   "codemirror_mode": {
    "name": "ipython",
    "version": 3
   },
   "file_extension": ".py",
   "mimetype": "text/x-python",
   "name": "python",
   "nbconvert_exporter": "python",
   "pygments_lexer": "ipython3",
   "version": "3.8.8"
  }
 },
 "nbformat": 4,
 "nbformat_minor": 5
}
